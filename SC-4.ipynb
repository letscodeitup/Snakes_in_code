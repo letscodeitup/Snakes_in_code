{
 "cells": [
  {
   "cell_type": "markdown",
   "id": "75dae4ca",
   "metadata": {},
   "source": [
    "Write a Python program to find the most frequent character in a string."
   ]
  },
  {
   "cell_type": "code",
   "execution_count": 6,
   "id": "f5ff43fa",
   "metadata": {
    "scrolled": true
   },
   "outputs": [
    {
     "name": "stdout",
     "output_type": "stream",
     "text": [
      "Enter a string: ruiuh rhfurh whdib\n",
      "The most frequent character is: h\n"
     ]
    }
   ],
   "source": [
    "input_string = input(\"Enter a string: \")\n",
    "char_freq = {}\n",
    "for char in input_string:\n",
    "    if char in char_freq:\n",
    "        char_freq[char] += 1\n",
    "    else:\n",
    "        char_freq[char] = 1\n",
    "\n",
    "max_freq = 0\n",
    "most_frequent_char = ''\n",
    "for char, freq in char_freq.items():\n",
    "    if freq > max_freq:\n",
    "        max_freq = freq\n",
    "        most_frequent_char = char\n",
    "\n",
    "print(\"The most frequent character is:\", most_frequent_char)\n"
   ]
  },
  {
   "cell_type": "markdown",
   "id": "2ffe8130",
   "metadata": {},
   "source": [
    "EXPLANATION\n",
    "-  `input_string = input(\"Enter a string: \")`: This line prompts the user to enter a string and stores it in the variable `input_string`.\n",
    "\n",
    "- `char_freq = {}`: This line initializes an empty dictionary `char_freq` to store the frequency of each character in the input string.\n",
    "\n",
    "-  `for char in input_string:`: This line starts a loop that iterates through each character in the input string.\n",
    "\n",
    "-  `if char in char_freq:`: This line checks if the current character `char` is already a key in the `char_freq` dictionary.\n",
    "\n",
    "-  `char_freq[char] += 1`: If the current character is already in the dictionary, its corresponding value (frequency) is incremented by 1.\n",
    "\n",
    "-  `else:`: If the current character is not yet in the dictionary, this block is executed.\n",
    "\n",
    "-  `char_freq[char] = 1`: It initializes the frequency of the current character to 1 because it's the first occurrence.\n",
    "\n",
    "-  After this loop, `char_freq` dictionary contains the frequency of each character in the input string.\n",
    "\n",
    "\n",
    "-  `max_freq = 0`: This line initializes a variable `max_freq` to keep track of the maximum frequency encountered.\n",
    "\n",
    "-  `most_frequent_char = ''`: This line initializes an empty string `most_frequent_char` to store the character with the maximum frequency.\n",
    "\n",
    "-  `for char, freq in char_freq.items():`: This line starts a loop that iterates over each key-value pair (character and its frequency) in the `char_freq` dictionary.\n",
    "\n",
    "-  `if freq > max_freq:`: This line checks if the frequency (`freq`) of the current character is greater than the current maximum frequency (`max_freq`).\n",
    "\n",
    "-  `max_freq = freq`: If the frequency of the current character is greater, it updates the maximum frequency to the frequency of the current character.\n",
    "\n",
    "- `most_frequent_char = char`: It updates the `most_frequent_char` to the current character if its frequency is the highest encountered so far.\n",
    "\n",
    "-  After this loop, `most_frequent_char` will contain the character with the highest frequency in the input string.\n",
    "\n",
    "- Finally, `print(\"The most frequent character is:\", most_frequent_char)`: This line prints the character with the highest frequency."
   ]
  },
  {
   "cell_type": "code",
   "execution_count": null,
   "id": "2730c681",
   "metadata": {},
   "outputs": [],
   "source": []
  }
 ],
 "metadata": {
  "kernelspec": {
   "display_name": "Python 3 (ipykernel)",
   "language": "python",
   "name": "python3"
  },
  "language_info": {
   "codemirror_mode": {
    "name": "ipython",
    "version": 3
   },
   "file_extension": ".py",
   "mimetype": "text/x-python",
   "name": "python",
   "nbconvert_exporter": "python",
   "pygments_lexer": "ipython3",
   "version": "3.11.5"
  }
 },
 "nbformat": 4,
 "nbformat_minor": 5
}
