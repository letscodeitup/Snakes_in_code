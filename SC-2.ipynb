{
 "cells": [
  {
   "cell_type": "markdown",
   "id": "d1448330",
   "metadata": {},
   "source": [
    "**Write a Python function that takes a string as input and returns a new string with each word reversed, while maintaining the order of words in the original string.**"
   ]
  },
  {
   "cell_type": "markdown",
   "id": "36aa2430",
   "metadata": {},
   "source": [
    "Example:\n",
    "\n",
    "Input: \"Hello world! Python is amazing.\"\n",
    "\n",
    "Output: \"olleH !dlrow nohtyP si gnizama.\""
   ]
  },
  {
   "cell_type": "code",
   "execution_count": 3,
   "id": "0678d7f5",
   "metadata": {},
   "outputs": [
    {
     "name": "stdout",
     "output_type": "stream",
     "text": [
      "Enter your input: i am good\n",
      "Reversed value: doog ma i\n"
     ]
    }
   ],
   "source": [
    "a = input(\"Enter your input: \")\n",
    "val = a[::-1]\n",
    "print(\"Reversed value:\", val)\n"
   ]
  },
  {
   "cell_type": "markdown",
   "id": "90c7fac2",
   "metadata": {},
   "source": [
    "Step by step explanation\n",
    "1. - Input Prompt: The user is prompted to enter a string.\n",
    "2. - String Reversal: The input string is reversed using Python's slicing technique ([::-1]).\n",
    "3. - Printing Result: The reversed string is printed as the output."
   ]
  }
 ],
 "metadata": {
  "kernelspec": {
   "display_name": "Python 3 (ipykernel)",
   "language": "python",
   "name": "python3"
  },
  "language_info": {
   "codemirror_mode": {
    "name": "ipython",
    "version": 3
   },
   "file_extension": ".py",
   "mimetype": "text/x-python",
   "name": "python",
   "nbconvert_exporter": "python",
   "pygments_lexer": "ipython3",
   "version": "3.11.5"
  }
 },
 "nbformat": 4,
 "nbformat_minor": 5
}
