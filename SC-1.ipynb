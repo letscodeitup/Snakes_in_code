{
 "cells": [
  {
   "cell_type": "markdown",
   "id": "08c6f4d8",
   "metadata": {},
   "source": [
    "Write a Python code that takes a string as input and returns the same string with all vowels removed."
   ]
  },
  {
   "cell_type": "markdown",
   "id": "f4548f46",
   "metadata": {},
   "source": [
    "Example:\n",
    "Input: \"hello\"\n",
    "Output: \"hll\"\n",
    "\n",
    "Explanation:\n",
    "\n",
    "The input string \"hello\" has vowels 'e' and 'o'.\n",
    "After removing vowels, the resulting string is \"hll\"."
   ]
  },
  {
   "cell_type": "markdown",
   "id": "e14c470f",
   "metadata": {},
   "source": [
    "CODE"
   ]
  },
  {
   "cell_type": "code",
   "execution_count": 6,
   "id": "53b54377",
   "metadata": {},
   "outputs": [
    {
     "name": "stdout",
     "output_type": "stream",
     "text": [
      "Enter your value: rest\n",
      "String with vowels removed: rst\n"
     ]
    }
   ],
   "source": [
    "value = input(\"Enter your value: \")\n",
    "vowels = ['a', 'e', 'i', 'o', 'u', 'A', 'E', 'I', 'O', 'U']\n",
    "result = \"\"\n",
    "\n",
    "for char in value:\n",
    "    if char not in vowels:\n",
    "        result += char\n",
    "\n",
    "print(\"String with vowels removed:\", result)\n"
   ]
  },
  {
   "cell_type": "markdown",
   "id": "3e0dbaa9",
   "metadata": {},
   "source": [
    "Break down the code step by step:\n",
    "1.Input: The user is prompted to enter a string.\n",
    "2.Vowels List: A list of vowels, including both lowercase and uppercase characters, is defined.\n",
    "3.Empty Result String: An empty string called result is initialized to store the modified string with vowels removed.\n",
    "4.Iterating Through Characters: For each character in the input string:\n",
    "5.If the character is not a vowel (i.e., not in the vowels list):\n",
    "6.It's appended to the result string.\n",
    "7.Output: The modified string, with all vowels removed, is printed."
   ]
  }
 ],
 "metadata": {
  "kernelspec": {
   "display_name": "Python 3 (ipykernel)",
   "language": "python",
   "name": "python3"
  },
  "language_info": {
   "codemirror_mode": {
    "name": "ipython",
    "version": 3
   },
   "file_extension": ".py",
   "mimetype": "text/x-python",
   "name": "python",
   "nbconvert_exporter": "python",
   "pygments_lexer": "ipython3",
   "version": "3.11.5"
  }
 },
 "nbformat": 4,
 "nbformat_minor": 5
}
