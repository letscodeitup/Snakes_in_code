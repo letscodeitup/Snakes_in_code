{
 "cells": [
  {
   "cell_type": "markdown",
   "id": "1a50e424",
   "metadata": {},
   "source": [
    "Write a Python program that takes a string as input and returns the count of vowels (both uppercase and lowercase) in the string."
   ]
  },
  {
   "cell_type": "markdown",
   "id": "5a4023f5",
   "metadata": {},
   "source": [
    "For example:\n",
    "\n",
    "Input: \"Hello World\"\n",
    "Output: 3 (because there are 3 vowels: 'e', 'o', and 'o')\n",
    "\n",
    "Input: \"Python Programming\"\n",
    "Output: 4 (because there are 4 vowels: 'o', 'o', 'a', and 'i')"
   ]
  },
  {
   "cell_type": "code",
   "execution_count": 2,
   "id": "39437784",
   "metadata": {},
   "outputs": [
    {
     "name": "stdout",
     "output_type": "stream",
     "text": [
      "enter your stringygfuanjK\n",
      "number of vowels is : 2\n"
     ]
    }
   ],
   "source": [
    "a=input(\"enter your string\")\n",
    "vowels = ['a', 'e', 'i', 'o', 'u', 'A', 'E', 'I', 'O', 'U']\n",
    "count=0\n",
    "for i in a:\n",
    "    if i in vowels:\n",
    "        count=count +1\n",
    "print(\"number of vowels is :\",count)    "
   ]
  },
  {
   "cell_type": "markdown",
   "id": "52cdf4f7",
   "metadata": {},
   "source": [
    "EXPLANATION\n",
    "- Prompt the user to enter a string.\n",
    "- Define a list containing lowercase and uppercase vowels.\n",
    "- Initialize a variable count to 0 to count the vowels.\n",
    "- Iterate over each character in the input string.\n",
    "- If the character is a vowel, increment the count variable by 1.\n",
    "- After looping through all characters, print the count of vowels."
   ]
  },
  {
   "cell_type": "code",
   "execution_count": null,
   "id": "ef3d9cbc",
   "metadata": {},
   "outputs": [],
   "source": []
  }
 ],
 "metadata": {
  "kernelspec": {
   "display_name": "Python 3 (ipykernel)",
   "language": "python",
   "name": "python3"
  },
  "language_info": {
   "codemirror_mode": {
    "name": "ipython",
    "version": 3
   },
   "file_extension": ".py",
   "mimetype": "text/x-python",
   "name": "python",
   "nbconvert_exporter": "python",
   "pygments_lexer": "ipython3",
   "version": "3.11.5"
  }
 },
 "nbformat": 4,
 "nbformat_minor": 5
}
